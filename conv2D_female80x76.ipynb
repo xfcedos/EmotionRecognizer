{
 "cells": [
  {
   "cell_type": "code",
   "execution_count": 2,
   "metadata": {},
   "outputs": [
    {
     "name": "stderr",
     "output_type": "stream",
     "text": [
      "Using TensorFlow backend.\n"
     ]
    }
   ],
   "source": [
    "import keras\n",
    "import numpy as np\n",
    "import pandas as pd\n",
    "from keras import models, layers\n",
    "from keras.layers import *\n",
    "import joblib"
   ]
  },
  {
   "cell_type": "code",
   "execution_count": 3,
   "metadata": {},
   "outputs": [],
   "source": [
    "from speedups import *"
   ]
  },
  {
   "cell_type": "code",
   "execution_count": 4,
   "metadata": {},
   "outputs": [],
   "source": [
    "from sklearn.preprocessing import OneHotEncoder, StandardScaler, normalize\n",
    "from sklearn.utils.class_weight import compute_class_weight\n",
    "import os"
   ]
  },
  {
   "cell_type": "code",
   "execution_count": 5,
   "metadata": {},
   "outputs": [],
   "source": [
    "def normalization(X):\n",
    "    for idx in range(len(X)):\n",
    "        X[idx] = normalize(X[idx])\n",
    "    return X"
   ]
  },
  {
   "cell_type": "code",
   "execution_count": 6,
   "metadata": {},
   "outputs": [],
   "source": [
    "path = \"../dataview/\"\n",
    "y_val = joblib.load(path + \"yvalnoaug\")\n",
    "y_test = joblib.load(path + \"ytest\")\n",
    "y_train = joblib.load(path + \"ytrain\")\n",
    "y_val = y_val.reshape(len(y_val), 1)\n",
    "y_test = y_test.reshape(len(y_test), 1)\n",
    "\n",
    "e1hot = OneHotEncoder()\n",
    "e1hot.fit(y_val);\n",
    "class_weights = compute_class_weight(\"balanced\", e1hot.categories_[0], y_train)\n",
    "\n",
    "y_train = y_train.reshape(len(y_train), 1)\n",
    "\n",
    "e1hot = OneHotEncoder()\n",
    "e1hot.fit(y_train)\n",
    "y_train = e1hot.transform(y_train)\n",
    "y_test = e1hot.transform(y_test)\n",
    "y_val = e1hot.transform(y_val)"
   ]
  },
  {
   "cell_type": "markdown",
   "metadata": {},
   "source": [
    "[\"1013\", \"1018\", \"1043\", \"1084\", \"14\", \"16\"] - test actors"
   ]
  },
  {
   "cell_type": "markdown",
   "metadata": {},
   "source": [
    "[\"1060\", \"1020\", \"18\", \"1004\", \"OAF\"] - val actors"
   ]
  },
  {
   "cell_type": "code",
   "execution_count": 7,
   "metadata": {},
   "outputs": [],
   "source": [
    "path = \"../dataview/\"\n",
    "X_val = joblib.load(path + \"xvalnoaug\")\n",
    "X_test = joblib.load(path + \"xtest\")\n",
    "X_train = joblib.load(path + \"xtrain\")\n",
    "\n",
    "X_test = normalization(X_test)\n",
    "X_val = normalization(X_val)\n",
    "X_train = normalization(X_train)\n",
    "\n",
    "X_val = X_val.reshape(X_val.shape[0], X_val.shape[1], X_val.shape[2], 1)\n",
    "X_test = X_test.reshape(X_test.shape[0], X_test.shape[1], X_test.shape[2], 1)\n",
    "X_train = X_train.reshape(X_train.shape[0], X_train.shape[1], X_train.shape[2], 1)"
   ]
  },
  {
   "cell_type": "code",
   "execution_count": 8,
   "metadata": {},
   "outputs": [
    {
     "data": {
      "text/plain": [
       "array([1.06543357, 0.73093191, 1.13016878, 1.51199548, 1.41382951,\n",
       "       0.69454168])"
      ]
     },
     "execution_count": 8,
     "metadata": {},
     "output_type": "execute_result"
    }
   ],
   "source": [
    "class_weights"
   ]
  },
  {
   "cell_type": "code",
   "execution_count": 9,
   "metadata": {},
   "outputs": [],
   "source": [
    "input_shape = X_val.shape[1:]\n",
    "classes=6"
   ]
  },
  {
   "cell_type": "code",
   "execution_count": 10,
   "metadata": {},
   "outputs": [
    {
     "data": {
      "text/plain": [
       "(80, 76, 1)"
      ]
     },
     "execution_count": 10,
     "metadata": {},
     "output_type": "execute_result"
    }
   ],
   "source": [
    "input_shape"
   ]
  },
  {
   "cell_type": "code",
   "execution_count": 11,
   "metadata": {},
   "outputs": [],
   "source": [
    "class Metrics(Callback):\n",
    "    def set_model(self, model):\n",
    "        self.model = model\n",
    "    \n",
    "    def on_train_begin(self, logs={}):\n",
    "        self.val_f1s = []\n",
    "        self.val_recalls = []\n",
    "        self.val_precisions = []\n",
    "\n",
    "    def on_epoch_end(self, epoch, logs=None):\n",
    "        if self.validation_data is None:\n",
    "            raise RuntimeError('Requeires validation_data.')\n",
    "        \n",
    "        val_predict = np.argmax((np.asarray(self.model.predict(self.validation_data[0]))).round(), axis=1)\n",
    "        val_targ = np.argmax(self.validation_data[1], axis=1)\n",
    "        _val_f1 = f1_score(val_targ, val_predict, average=\"weighted\")\n",
    "        self.val_f1s.append(_val_f1)\n",
    "        print(f\" — val_f1: {_val_f1}\")\n",
    "        return"
   ]
  },
  {
   "cell_type": "code",
   "execution_count": 12,
   "metadata": {},
   "outputs": [],
   "source": [
    "def v2x80C2_0(input_shape, classes):\n",
    "    model = keras.Sequential([\n",
    "        Conv2D(16, (7, 7), strides=(2, 2), padding=\"valid\", input_shape=input_shape),\n",
    "        Conv2D(32, (3, 3), activation=\"relu\"),\n",
    "        BatchNormalization(axis=-1),\n",
    "        Conv2D(32, (3, 3), activation=\"relu\", strides=(2, 2), padding=\"same\"),\n",
    "        BatchNormalization(axis=-1),\n",
    "        Conv2D(32, (3, 3), activation=\"relu\", strides=(2, 2), padding=\"same\"),\n",
    "        BatchNormalization(axis=-1),\n",
    "        Dropout(0.25),\n",
    "        Conv2D(64, (3, 3), activation=\"relu\", padding=\"same\"),\n",
    "        BatchNormalization(axis=-1),\n",
    "        Conv2D(64, (3, 3), activation=\"relu\", strides=(2, 2), padding=\"same\"),\n",
    "        BatchNormalization(axis=-1),\n",
    "        Dropout(0.25),\n",
    "        Conv2D(128, (3, 3), padding=\"same\", activation=\"relu\"),\n",
    "        BatchNormalization(axis=-1),\n",
    "        Conv2D(128, (3, 3), activation=\"relu\", strides=(2, 2), padding=\"same\"),\n",
    "        BatchNormalization(axis=-1),\n",
    "        Dropout(0.25),\n",
    "        Flatten(),\n",
    "        Dense(512, activation=\"relu\"),\n",
    "        BatchNormalization(axis=-1),\n",
    "        Dropout(0.5),\n",
    "        Dense(classes, activation=\"softmax\")\n",
    "    ])\n",
    "    model.compile(optimizer=\"rmsprop\", loss=\"categorical_crossentropy\", metrics=[\"acc\"])\n",
    "    model.summary()\n",
    "    return model"
   ]
  },
  {
   "cell_type": "code",
   "execution_count": 25,
   "metadata": {
    "scrolled": true
   },
   "outputs": [
    {
     "name": "stdout",
     "output_type": "stream",
     "text": [
      "_________________________________________________________________\n",
      "Layer (type)                 Output Shape              Param #   \n",
      "=================================================================\n",
      "conv2d_33 (Conv2D)           (None, 37, 35, 16)        800       \n",
      "_________________________________________________________________\n",
      "conv2d_34 (Conv2D)           (None, 35, 33, 32)        4640      \n",
      "_________________________________________________________________\n",
      "batch_normalization_33 (Batc (None, 35, 33, 32)        128       \n",
      "_________________________________________________________________\n",
      "conv2d_35 (Conv2D)           (None, 18, 17, 32)        9248      \n",
      "_________________________________________________________________\n",
      "batch_normalization_34 (Batc (None, 18, 17, 32)        128       \n",
      "_________________________________________________________________\n",
      "conv2d_36 (Conv2D)           (None, 9, 9, 32)          9248      \n",
      "_________________________________________________________________\n",
      "batch_normalization_35 (Batc (None, 9, 9, 32)          128       \n",
      "_________________________________________________________________\n",
      "dropout_17 (Dropout)         (None, 9, 9, 32)          0         \n",
      "_________________________________________________________________\n",
      "conv2d_37 (Conv2D)           (None, 9, 9, 64)          18496     \n",
      "_________________________________________________________________\n",
      "batch_normalization_36 (Batc (None, 9, 9, 64)          256       \n",
      "_________________________________________________________________\n",
      "conv2d_38 (Conv2D)           (None, 5, 5, 64)          36928     \n",
      "_________________________________________________________________\n",
      "batch_normalization_37 (Batc (None, 5, 5, 64)          256       \n",
      "_________________________________________________________________\n",
      "dropout_18 (Dropout)         (None, 5, 5, 64)          0         \n",
      "_________________________________________________________________\n",
      "conv2d_39 (Conv2D)           (None, 5, 5, 128)         73856     \n",
      "_________________________________________________________________\n",
      "batch_normalization_38 (Batc (None, 5, 5, 128)         512       \n",
      "_________________________________________________________________\n",
      "conv2d_40 (Conv2D)           (None, 3, 3, 128)         147584    \n",
      "_________________________________________________________________\n",
      "batch_normalization_39 (Batc (None, 3, 3, 128)         512       \n",
      "_________________________________________________________________\n",
      "dropout_19 (Dropout)         (None, 3, 3, 128)         0         \n",
      "_________________________________________________________________\n",
      "flatten_5 (Flatten)          (None, 1152)              0         \n",
      "_________________________________________________________________\n",
      "dense_9 (Dense)              (None, 512)               590336    \n",
      "_________________________________________________________________\n",
      "batch_normalization_40 (Batc (None, 512)               2048      \n",
      "_________________________________________________________________\n",
      "dropout_20 (Dropout)         (None, 512)               0         \n",
      "_________________________________________________________________\n",
      "dense_10 (Dense)             (None, 6)                 3078      \n",
      "=================================================================\n",
      "Total params: 898,182\n",
      "Trainable params: 896,198\n",
      "Non-trainable params: 1,984\n",
      "_________________________________________________________________\n",
      "Train on 64284 samples, validate on 1041 samples\n",
      "Epoch 1/50\n",
      "64284/64284 [==============================] - 30s 468us/step - loss: 1.4972 - acc: 0.4614 - val_loss: 1.4119 - val_acc: 0.4890\n",
      " — val_f1: 0.41456011234169865\n",
      "Epoch 2/50\n",
      "64284/64284 [==============================] - 28s 435us/step - loss: 0.9122 - acc: 0.6514 - val_loss: 1.5695 - val_acc: 0.4918\n",
      " — val_f1: 0.4544430979695627\n",
      "Epoch 3/50\n",
      "64284/64284 [==============================] - 29s 451us/step - loss: 0.7008 - acc: 0.7399 - val_loss: 1.8513 - val_acc: 0.5235\n",
      " — val_f1: 0.48224202531090293\n",
      "Epoch 4/50\n",
      "64284/64284 [==============================] - 28s 439us/step - loss: 0.5925 - acc: 0.7829 - val_loss: 1.7581 - val_acc: 0.5216\n",
      " — val_f1: 0.4541996135092833\n",
      "Epoch 5/50\n",
      "64284/64284 [==============================] - 28s 430us/step - loss: 0.5150 - acc: 0.8123 - val_loss: 2.2751 - val_acc: 0.5187\n",
      " — val_f1: 0.46714659341175385\n",
      "Epoch 6/50\n",
      "64284/64284 [==============================] - 28s 432us/step - loss: 0.4681 - acc: 0.8296 - val_loss: 2.1046 - val_acc: 0.5159\n",
      " — val_f1: 0.4780979837250818\n",
      "Epoch 7/50\n",
      "64284/64284 [==============================] - 28s 437us/step - loss: 0.4317 - acc: 0.8448 - val_loss: 1.6573 - val_acc: 0.5504\n",
      " — val_f1: 0.5197581811096785\n",
      "Epoch 8/50\n",
      "64284/64284 [==============================] - 30s 463us/step - loss: 0.4005 - acc: 0.8555 - val_loss: 1.8068 - val_acc: 0.5322\n",
      " — val_f1: 0.4951636325059274\n",
      "Epoch 9/50\n",
      "64284/64284 [==============================] - 28s 443us/step - loss: 0.3748 - acc: 0.8663 - val_loss: 1.8518 - val_acc: 0.5485\n",
      " — val_f1: 0.5231133201395791\n",
      "Epoch 10/50\n",
      "64284/64284 [==============================] - 28s 440us/step - loss: 0.3493 - acc: 0.8739 - val_loss: 1.9789 - val_acc: 0.5504\n",
      " — val_f1: 0.5104226592395517\n",
      "Epoch 11/50\n",
      "64284/64284 [==============================] - 29s 448us/step - loss: 0.3362 - acc: 0.8809 - val_loss: 2.2920 - val_acc: 0.5082\n",
      "Restoring model weights from the end of the best epoch\n",
      " — val_f1: 0.41456011234169865\n",
      "Epoch 00011: early stopping\n"
     ]
    }
   ],
   "source": [
    "model = v2x80C2_0(input_shape, classes)\n",
    "history = model.fit(X_train, y_train, epochs=50, batch_size=64, validation_data=(X_test, y_test), callbacks=callbacks, class_weight=class_weights)"
   ]
  },
  {
   "cell_type": "code",
   "execution_count": 26,
   "metadata": {},
   "outputs": [
    {
     "data": {
      "image/png": "[encoded data removed]",
      "text/plain": [
       "<Figure size 1440x576 with 4 Axes>"
      ]
     },
     "metadata": {},
     "output_type": "display_data"
    },
    {
     "name": "stdout",
     "output_type": "stream",
     "text": [
      "{'micro': 0.7164291072768193, 'macro': 0.7085636890006954, 'weighted': 0.7167362011217496}\n"
     ]
    }
   ],
   "source": [
    "draw_full_performance(history, model, X_val, y_val, e1hot.categories_, v2x80C2_0, \"./saved/\")"
   ]
  }
 ],
 "metadata": {
  "kernelspec": {
   "display_name": "tf-gpu",
   "language": "python",
   "name": "tf-gpu"
  },
  "language_info": {
   "codemirror_mode": {
    "name": "ipython",
    "version": 3
   },
   "file_extension": ".py",
   "mimetype": "text/x-python",
   "name": "python",
   "nbconvert_exporter": "python",
   "pygments_lexer": "ipython3",
   "version": "3.7.5"
  }
 },
 "nbformat": 4,
 "nbformat_minor": 4
}
